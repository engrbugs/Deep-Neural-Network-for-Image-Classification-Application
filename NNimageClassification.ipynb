{
 "cells": [
  {
   "cell_type": "code",
   "execution_count": 1,
   "source": [
    "import numpy as np\r\n",
    "import copy\r\n",
    "import matplotlib.pyplot as plt\r\n",
    "import h5py\r\n",
    "from PIL import Image\r\n",
    "import os"
   ],
   "outputs": [],
   "metadata": {}
  },
  {
   "cell_type": "code",
   "execution_count": 2,
   "source": [
    "def openH5(filename):\r\n",
    "    with h5py.File(filename, \"r\") as f:\r\n",
    "        # List all groups\r\n",
    "        print(\"Keys: %s\" % f.keys())\r\n",
    "        # Get the data\r\n",
    "        header = list(f.keys())\r\n",
    "        classes = f[header[0]]\r\n",
    "        x = f[header[1]]\r\n",
    "        y = f[header[2]]\r\n",
    "        classes = np.array(classes)\r\n",
    "        x = np.array(x)\r\n",
    "        y = np.array(y)\r\n",
    "        f.close()\r\n",
    "    return classes, header, x, y"
   ],
   "outputs": [],
   "metadata": {}
  },
  {
   "cell_type": "code",
   "execution_count": 3,
   "source": [
    "test_classes, test_header, test_set_x, test_set_y = openH5(\"test_catvnoncat.h5\")\r\n",
    "train_classes, train_header, train_set_x, train_set_y = openH5(\"train_catvnoncat.h5\")"
   ],
   "outputs": [
    {
     "output_type": "stream",
     "name": "stdout",
     "text": [
      "Keys: <KeysViewHDF5 ['list_classes', 'test_set_x', 'test_set_y']>\n",
      "Keys: <KeysViewHDF5 ['list_classes', 'train_set_x', 'train_set_y']>\n"
     ]
    }
   ],
   "metadata": {}
  },
  {
   "cell_type": "code",
   "execution_count": 4,
   "source": [
    "index = 25\r\n",
    "np.random.seed(1)\r\n",
    "plt.imshow(train_set_x[index])\r\n",
    "print(\"y = \" + str(train_set_y[index]) + \", it's a '\" + train_classes[np.squeeze(train_set_y[index])].decode(\r\n",
    "    \"utf-8\") + \"' picture.\")\r\n",
    "print(\"total number of \" + str(train_header[1]) + \": \" + str(train_set_x.shape[0]))\r\n",
    "print(\"total number of \" + str(train_header[2]) + \": \" + str(train_set_y.shape[0]))"
   ],
   "outputs": [
    {
     "output_type": "stream",
     "name": "stdout",
     "text": [
      "y = 1, it's a 'cat' picture.\n",
      "total number of train_set_x: 209\n",
      "total number of train_set_y: 209\n"
     ]
    },
    {
     "output_type": "display_data",
     "data": {
      "image/png": "[encoded data removed]",
      "text/plain": [
       "<Figure size 432x288 with 1 Axes>"
      ]
     },
     "metadata": {
      "needs_background": "light"
     }
    }
   ],
   "metadata": {}
  },
  {
   "cell_type": "code",
   "execution_count": 5,
   "source": [
    "train_set_y = train_set_y.reshape(-1,1).T\r\n",
    "test_set_y = test_set_y.reshape(-1,1).T"
   ],
   "outputs": [],
   "metadata": {}
  },
  {
   "cell_type": "code",
   "execution_count": 6,
   "source": [
    "m_train = train_set_y.shape[1]\r\n",
    "m_test = test_set_y.shape[1]\r\n",
    "num_px = train_set_x.shape[1]\r\n",
    "\r\n",
    "print (\"Number of training examples: m_train = \" + str(m_train))\r\n",
    "print (\"Number of testing examples: m_test = \" + str(m_test))\r\n",
    "print (\"Height/Width of each image: num_px = \" + str(num_px))\r\n",
    "print (\"Each image is of size: (\" + str(num_px) + \", \" + str(num_px) + \", 3)\")\r\n",
    "print (\"train_set_x shape: \" + str(train_set_x.shape))\r\n",
    "print (\"train_set_y shape: \" + str(train_set_y.shape))\r\n",
    "print (\"test_set_x shape: \" + str(test_set_x.shape))\r\n",
    "print (\"test_set_y shape: \" + str(test_set_y.shape))"
   ],
   "outputs": [
    {
     "output_type": "stream",
     "name": "stdout",
     "text": [
      "Number of training examples: m_train = 209\n",
      "Number of testing examples: m_test = 50\n",
      "Height/Width of each image: num_px = 64\n",
      "Each image is of size: (64, 64, 3)\n",
      "train_set_x shape: (209, 64, 64, 3)\n",
      "train_set_y shape: (1, 209)\n",
      "test_set_x shape: (50, 64, 64, 3)\n",
      "test_set_y shape: (1, 50)\n"
     ]
    }
   ],
   "metadata": {}
  },
  {
   "cell_type": "code",
   "execution_count": 7,
   "source": [
    "train_set_x_flatten = train_set_x.reshape(train_set_x.shape[0],-1).T\r\n",
    "test_set_x_flatten = test_set_x.reshape(test_set_x.shape[0],-1).T"
   ],
   "outputs": [],
   "metadata": {}
  },
  {
   "cell_type": "code",
   "execution_count": 8,
   "source": [
    "assert np.alltrue(train_set_x_flatten[0:10, 1] == [196, 192, 190, 193, 186, 182, 188, 179, 174, 213]), \"Wrong solution. Use (X.shape[0], -1).T.\"\r\n",
    "assert np.alltrue(test_set_x_flatten[0:10, 1] == [115, 110, 111, 137, 129, 129, 155, 146, 145, 159]), \"Wrong solution. Use (X.shape[0], -1).T.\"\r\n",
    "\r\n",
    "print (\"train_set_x_flatten shape: \" + str(train_set_x_flatten.shape))\r\n",
    "print (\"train_set_y shape: \" + str(train_set_y.shape))\r\n",
    "print (\"test_set_x_flatten shape: \" + str(test_set_x_flatten.shape))\r\n",
    "print (\"test_set_y shape: \" + str(test_set_y.shape))"
   ],
   "outputs": [
    {
     "output_type": "stream",
     "name": "stdout",
     "text": [
      "train_set_x_flatten shape: (12288, 209)\n",
      "train_set_y shape: (1, 209)\n",
      "test_set_x_flatten shape: (12288, 50)\n",
      "test_set_y shape: (1, 50)\n"
     ]
    }
   ],
   "metadata": {}
  },
  {
   "cell_type": "code",
   "execution_count": 9,
   "source": [
    "### CONSTANTS DEFINING THE MODEL ####\r\n",
    "train_x = train_set_x_flatten/255.\r\n",
    "test_x = test_set_x_flatten/255.\r\n",
    "\r\n",
    "n_x = 12288     # num_px * num_px * 3\r\n",
    "n_h = 7\r\n",
    "n_y = 1\r\n",
    "layers_dims = (n_x, n_h, n_y)\r\n",
    "learning_rate = 0.0075"
   ],
   "outputs": [],
   "metadata": {}
  },
  {
   "cell_type": "code",
   "execution_count": 10,
   "source": [
    "def initialize_parameters(n_x, n_h, n_y):\r\n",
    "    \"\"\"\r\n",
    "    Argument:\r\n",
    "    n_x -- size of the input layer\r\n",
    "    n_h -- size of the hidden layer\r\n",
    "    n_y -- size of the output layer\r\n",
    "    \r\n",
    "    Returns:\r\n",
    "    parameters -- python dictionary containing your parameters:\r\n",
    "                    W1 -- weight matrix of shape (n_h, n_x)\r\n",
    "                    b1 -- bias vector of shape (n_h, 1)\r\n",
    "                    W2 -- weight matrix of shape (n_y, n_h)\r\n",
    "                    b2 -- bias vector of shape (n_y, 1)\r\n",
    "    \"\"\"\r\n",
    "    \r\n",
    "    np.random.seed(1)\r\n",
    "\r\n",
    "    W1 = np.random.randn(n_h, n_x) * 0.01\r\n",
    "    b1 = np.zeros(shape=(n_h, 1))\r\n",
    "    W2 = np.random.randn(n_y, n_h) * 0.01\r\n",
    "    b2 = np.zeros(shape=(n_y, 1))\r\n",
    "    \r\n",
    "    parameters = {\"W1\": W1,\r\n",
    "                  \"b1\": b1,\r\n",
    "                  \"W2\": W2,\r\n",
    "                  \"b2\": b2}\r\n",
    "    \r\n",
    "    return parameters    "
   ],
   "outputs": [],
   "metadata": {}
  },
  {
   "cell_type": "code",
   "execution_count": 11,
   "source": [
    "def initialize_parameters_deep(layer_dims, sed=3):\r\n",
    "    \"\"\"\r\n",
    "    Arguments:\r\n",
    "    layer_dims -- python array (list) containing the dimensions of each layer in our network\r\n",
    "    \r\n",
    "    Returns:\r\n",
    "    parameters -- python dictionary containing your parameters \"W1\", \"b1\", ..., \"WL\", \"bL\":\r\n",
    "                    Wl -- weight matrix of shape (layer_dims[l], layer_dims[l-1])\r\n",
    "                    bl -- bias vector of shape (layer_dims[l], 1)\r\n",
    "    sed -- random.seed variable (default is 3)\r\n",
    "    \"\"\"\r\n",
    "    \r\n",
    "    np.random.seed(sed)\r\n",
    "    parameters = {}\r\n",
    "    L = layers_dims[3]-1 + 1 # number of layers in the network\r\n",
    "\r\n",
    "    for l in range(1, L):\r\n",
    "        parameters['W' + str(l)] = np.random.randn(layer_dims[l], layer_dims[l - 1]) * 0.1\r\n",
    "        parameters['b' + str(l)] = np.zeros((layer_dims[l], 1))\r\n",
    "        \r\n",
    "    return parameters"
   ],
   "outputs": [],
   "metadata": {}
  },
  {
   "cell_type": "code",
   "execution_count": 12,
   "source": [
    "def linear_forward(A, W, b):\r\n",
    "    \"\"\"\r\n",
    "    Implement the linear part of a layer's forward propagation.\r\n",
    "\r\n",
    "    Arguments:\r\n",
    "    A -- activations from previous layer (or input data): (size of previous layer, number of examples)\r\n",
    "    W -- weights matrix: numpy array of shape (size of current layer, size of previous layer)\r\n",
    "    b -- bias vector, numpy array of shape (size of the current layer, 1)\r\n",
    "\r\n",
    "    Returns:\r\n",
    "    Z -- the input of the activation function, also called pre-activation parameter \r\n",
    "    cache -- a python tuple containing \"A\", \"W\" and \"b\" ; stored for computing the backward pass efficiently\r\n",
    "    \"\"\"\r\n",
    "    \r\n",
    "    Z = np.dot(W, A) + b\r\n",
    "    cache = (A, W, b)\r\n",
    "    \r\n",
    "    return Z, cache"
   ],
   "outputs": [],
   "metadata": {}
  },
  {
   "cell_type": "code",
   "execution_count": 13,
   "source": [
    "def linear_activation_forward(A_prev, W, b, activation):\r\n",
    "    \"\"\"\r\n",
    "    Implement the forward propagation for the LINEAR->ACTIVATION layer\r\n",
    "\r\n",
    "    Arguments:\r\n",
    "    A_prev -- activations from previous layer (or input data): (size of previous layer, number of examples)\r\n",
    "    W -- weights matrix: numpy array of shape (size of current layer, size of previous layer)\r\n",
    "    b -- bias vector, numpy array of shape (size of the current layer, 1)\r\n",
    "    activation -- the activation to be used in this layer, stored as a text string: \"sigmoid\" or \"relu\"\r\n",
    "\r\n",
    "    Returns:\r\n",
    "    A -- the output of the activation function, also called the post-activation value \r\n",
    "    cache -- a python tuple containing \"linear_cache\" and \"activation_cache\";\r\n",
    "             stored for computing the backward pass efficiently\r\n",
    "    \"\"\"\r\n",
    "    Z, linear_cache = linear_forward(A_prev, W, b)\r\n",
    "    if activation == \"sigmoid\":\r\n",
    "        A, activation_cache = sigmoid(Z)\r\n",
    "    elif activation == \"relu\":\r\n",
    "        A, activation_cache = relu(Z)\r\n",
    "        \r\n",
    "    cache = (linear_cache, activation_cache)\r\n",
    "\r\n",
    "    return A, cache"
   ],
   "outputs": [],
   "metadata": {}
  },
  {
   "cell_type": "code",
   "execution_count": 14,
   "source": [
    "def L_model_forward(X, parameters):\r\n",
    "    \"\"\"\r\n",
    "    Implement forward propagation for the [LINEAR->RELU]*(L-1)->LINEAR->SIGMOID computation\r\n",
    "    \r\n",
    "    Arguments:\r\n",
    "    X -- data, numpy array of shape (input size, number of examples)\r\n",
    "    parameters -- output of initialize_parameters_deep()\r\n",
    "    \r\n",
    "    Returns:\r\n",
    "    AL -- activation value from the output (last) layer\r\n",
    "    caches -- list of caches containing:\r\n",
    "                every cache of linear_activation_forward() (there are L of them, indexed from 0 to L-1)\r\n",
    "    \"\"\"\r\n",
    "\r\n",
    "    caches = []\r\n",
    "    A = X\r\n",
    "    L = len(parameters) // 2                  # number of layers in the neural network\r\n",
    "    \r\n",
    "    for l in range(1, L):\r\n",
    "        A_prev = A\r\n",
    "        A, cache = linear_activation_forward(A_prev, parameters['W' + str(l)],\r\n",
    "                                            parameters['b' + str(l)], activation='relu')\r\n",
    "        caches.append(cache)\r\n",
    "    AL, cache = linear_activation_forward(A, parameters['W' + str(L)], \r\n",
    "                                          parameters['b' + str(L)], activation='sigmoid')\r\n",
    "    caches.append(cache)\r\n",
    "    \r\n",
    "    return AL, caches"
   ],
   "outputs": [],
   "metadata": {}
  },
  {
   "cell_type": "code",
   "execution_count": 15,
   "source": [
    "def compute_cost(AL, Y):\r\n",
    "    \"\"\"\r\n",
    "    Implement the cost function defined by equation (7).\r\n",
    "\r\n",
    "    Arguments:\r\n",
    "    AL -- probability vector corresponding to your label predictions, shape (1, number of examples)\r\n",
    "    Y -- true \"label\" vector (for example: containing 0 if non-cat, 1 if cat), shape (1, number of examples)\r\n",
    "\r\n",
    "    Returns:\r\n",
    "    cost -- cross-entropy cost\r\n",
    "    \"\"\"\r\n",
    "    \r\n",
    "    m = Y.shape[1]\r\n",
    "    cost = -1 / m * np.sum(np.multiply(Y, np.log(AL)) + np.multiply(1-Y, np.log(1-AL)))\r\n",
    "    \r\n",
    "    cost = np.squeeze(cost)\r\n",
    "    \r\n",
    "    return cost"
   ],
   "outputs": [],
   "metadata": {}
  },
  {
   "cell_type": "code",
   "execution_count": 16,
   "source": [
    "def linear_backward(dZ, cache):\r\n",
    "    \"\"\"\r\n",
    "    Implement the linear portion of backward propagation for a single layer (layer l)\r\n",
    "\r\n",
    "    Arguments:\r\n",
    "    dZ -- Gradient of the cost with respect to the linear output (of current layer l)\r\n",
    "    cache -- tuple of values (A_prev, W, b) coming from the forward propagation in the current layer\r\n",
    "\r\n",
    "    Returns:\r\n",
    "    dA_prev -- Gradient of the cost with respect to the activation (of the previous layer l-1), same shape as A_prev\r\n",
    "    dW -- Gradient of the cost with respect to W (current layer l), same shape as W\r\n",
    "    db -- Gradient of the cost with respect to b (current layer l), same shape as b\r\n",
    "    \"\"\"\r\n",
    "    A_prev, W, b = cache\r\n",
    "    m = A_prev.shape[1]\r\n",
    "\r\n",
    "    dW = np.dot(dZ, cache[0].T) / m\r\n",
    "    db = np.sum(dZ, axis=1, keepdims=True) / m\r\n",
    "    dA_prev = np.dot(cache[1].T, dZ)\r\n",
    "    \r\n",
    "    return dA_prev, dW, db"
   ],
   "outputs": [],
   "metadata": {}
  },
  {
   "cell_type": "code",
   "execution_count": 17,
   "source": [
    "def linear_activation_backward(dA, cache, activation):\r\n",
    "    \"\"\"\r\n",
    "    Implement the backward propagation for the LINEAR->ACTIVATION layer.\r\n",
    "    \r\n",
    "    Arguments:\r\n",
    "    dA -- post-activation gradient for current layer l \r\n",
    "    cache -- tuple of values (linear_cache, activation_cache) we store for computing backward propagation efficiently\r\n",
    "    activation -- the activation to be used in this layer, stored as a text string: \"sigmoid\" or \"relu\"\r\n",
    "    \r\n",
    "    Returns:\r\n",
    "    dA_prev -- Gradient of the cost with respect to the activation (of the previous layer l-1), same shape as A_prev\r\n",
    "    dW -- Gradient of the cost with respect to W (current layer l), same shape as W\r\n",
    "    db -- Gradient of the cost with respect to b (current layer l), same shape as b\r\n",
    "    \"\"\"\r\n",
    "    linear_cache, activation_cache = cache\r\n",
    "    \r\n",
    "    if activation == \"relu\":\r\n",
    "        dZ = relu_backward(dA, activation_cache)\r\n",
    "        \r\n",
    "    elif activation == \"sigmoid\":\r\n",
    "        dZ = sigmoid_backward(dA, activation_cache)\r\n",
    "        \r\n",
    "    dA_prev, dW, db = linear_backward(dZ, linear_cache)\r\n",
    "    return dA_prev, dW, db"
   ],
   "outputs": [],
   "metadata": {}
  },
  {
   "cell_type": "code",
   "execution_count": 18,
   "source": [
    "def L_model_backward(AL, Y, caches):\r\n",
    "    \"\"\"\r\n",
    "    Implement the backward propagation for the [LINEAR->RELU] * (L-1) -> LINEAR -> SIGMOID group\r\n",
    "    \r\n",
    "    Arguments:\r\n",
    "    AL -- probability vector, output of the forward propagation (L_model_forward())\r\n",
    "    Y -- true \"label\" vector (containing 0 if non-cat, 1 if cat)\r\n",
    "    caches -- list of caches containing:\r\n",
    "                every cache of linear_activation_forward() with \"relu\" (it's caches[l], for l in range(L-1) i.e l = 0...L-2)\r\n",
    "                the cache of linear_activation_forward() with \"sigmoid\" (it's caches[L-1])\r\n",
    "    \r\n",
    "    Returns:\r\n",
    "    grads -- A dictionary with the gradients\r\n",
    "             grads[\"dA\" + str(l)] = ... \r\n",
    "             grads[\"dW\" + str(l)] = ...\r\n",
    "             grads[\"db\" + str(l)] = ... \r\n",
    "    \"\"\"\r\n",
    "    grads = {}\r\n",
    "    L = len(caches) # the number of layers\r\n",
    "    m = AL.shape[1]\r\n",
    "    Y = Y.reshape(AL.shape) # after this line, Y is the same shape as AL\r\n",
    "    dAL = - (np.divide(Y, AL) - np.divide(1-Y, 1-AL))\r\n",
    "    current_cache = caches[L-1]\r\n",
    "    dA_prev_temp, dW_temp, db_temp = linear_activation_backward(dAL, current_cache, \"sigmoid\")\r\n",
    "    grads[\"dA\" + str(L-1)] =dA_prev_temp\r\n",
    "    grads[\"dW\" + str(L)] = dW_temp\r\n",
    "    grads[\"db\" + str(L)] = db_temp\r\n",
    "    for l in reversed(range(L-1)):\r\n",
    "        current_cache = caches[l]\r\n",
    "        dA_prev_temp, dW_temp, db_temp = linear_activation_backward(dA_prev_temp, current_cache, 'relu')\r\n",
    "        grads[\"dA\" + str(l)] = dA_prev_temp\r\n",
    "        grads[\"dW\" + str(l + 1)] = dW_temp\r\n",
    "        grads[\"db\" + str(l + 1)] = db_temp\r\n",
    "        \r\n",
    "    return grads"
   ],
   "outputs": [],
   "metadata": {}
  },
  {
   "cell_type": "code",
   "execution_count": 19,
   "source": [
    "def update_parameters(params, grads, learning_rate):\r\n",
    "    \"\"\"\r\n",
    "    Update parameters using gradient descent\r\n",
    "    \r\n",
    "    Arguments:\r\n",
    "    params -- python dictionary containing your parameters \r\n",
    "    grads -- python dictionary containing your gradients, output of L_model_backward\r\n",
    "    \r\n",
    "    Returns:\r\n",
    "    parameters -- python dictionary containing your updated parameters \r\n",
    "                  parameters[\"W\" + str(l)] = ... \r\n",
    "                  parameters[\"b\" + str(l)] = ...\r\n",
    "    \"\"\"\r\n",
    "\r\n",
    "    parameters = params.copy()\r\n",
    "    L = len(parameters) // 2 # number of layers in the neural network\r\n",
    "\r\n",
    "    for l in range(L):\r\n",
    "        parameters[\"W\" + str(l+1)] =parameters[\"W\" + str(l+1)]-learning_rate*grads[\"dW\" + str(l+1)]\r\n",
    "        parameters[\"b\" + str(l+1)] =parameters[\"b\" + str(l+1)]-learning_rate*grads[\"db\" + str(l+1)]\r\n",
    "    return parameters"
   ],
   "outputs": [],
   "metadata": {}
  },
  {
   "cell_type": "code",
   "execution_count": 75,
   "source": [
    "\r\n",
    "def two_layer_model(X, Y, layers_dims, learning_rate = 0.0075, num_iterations = 3000, print_cost=False):\r\n",
    "    \"\"\"\r\n",
    "    Implements a two-layer neural network: LINEAR->RELU->LINEAR->SIGMOID.\r\n",
    "    \r\n",
    "    Arguments:\r\n",
    "    X -- input data, of shape (n_x, number of examples)\r\n",
    "    Y -- true \"label\" vector (containing 1 if cat, 0 if non-cat), of shape (1, number of examples)\r\n",
    "    layers_dims -- dimensions of the layers (n_x, n_h, n_y)\r\n",
    "    num_iterations -- number of iterations of the optimization loop\r\n",
    "    learning_rate -- learning rate of the gradient descent update rule\r\n",
    "    print_cost -- If set to True, this will print the cost every 100 iterations \r\n",
    "    \r\n",
    "    Returns:\r\n",
    "    parameters -- a dictionary containing W1, W2, b1, and b2\r\n",
    "    \"\"\"\r\n",
    "    \r\n",
    "    np.random.seed(1)\r\n",
    "    grads = {}\r\n",
    "    costs = []                              # to keep track of the cost\r\n",
    "    m = X.shape[1]                           # number of examples\r\n",
    "    (n_x, n_h, n_y) = layers_dims\r\n",
    "    parameters = initialize_parameters(n_x, n_h, n_y)\r\n",
    "\r\n",
    "    W1 = parameters[\"W1\"]\r\n",
    "    b1 = parameters[\"b1\"]\r\n",
    "    W2 = parameters[\"W2\"]\r\n",
    "    b2 = parameters[\"b2\"]\r\n",
    "\r\n",
    "    # Loop (gradient descent)\r\n",
    "    for i in range(0, num_iterations):\r\n",
    "        A1, cache1 = linear_activation_forward(X, W1, b1, activation = \"relu\")\r\n",
    "        A2, cache2 = linear_activation_forward(A1, W2, b2, activation = \"sigmoid\")\r\n",
    "        \r\n",
    "        cost = compute_cost(A2, Y)\r\n",
    "\r\n",
    "        dA2 = - (np.divide(Y, A2) - np.divide(1 - Y, 1 - A2))\r\n",
    "        dA1, dW2, db2 = linear_activation_backward(dA2, cache2, activation = \"sigmoid\")\r\n",
    "        dA0, dW1, db1 = linear_activation_backward(dA1, cache1, activation = \"relu\")\r\n",
    "        \r\n",
    "        grads['dW1'] = dW1\r\n",
    "        grads['db1'] = db1\r\n",
    "        grads['dW2'] = dW2\r\n",
    "        grads['db2'] = db2\r\n",
    "        \r\n",
    "        parameters = update_parameters(parameters, grads, learning_rate)\r\n",
    "\r\n",
    "        W1 = parameters[\"W1\"]\r\n",
    "        b1 = parameters[\"b1\"]\r\n",
    "        W2 = parameters[\"W2\"]\r\n",
    "        b2 = parameters[\"b2\"]\r\n",
    "        \r\n",
    "        if print_cost and i % 100 == 0 or i == num_iterations - 1:\r\n",
    "            print(\"Cost after iteration {}: {}\".format(i, np.squeeze(cost)))\r\n",
    "        if i % 100 == 0 or i == num_iterations:\r\n",
    "            costs.append(cost)\r\n",
    "\r\n",
    "    return parameters, costs\r\n",
    "\r\n",
    "def plot_costs(costs, learning_rate=0.0075):\r\n",
    "    plt.plot(np.squeeze(costs))\r\n",
    "    plt.ylabel('cost')\r\n",
    "    plt.xlabel('iterations (per hundreds)')\r\n",
    "    plt.title(\"Learning rate =\" + str(learning_rate))\r\n",
    "    plt.show()"
   ],
   "outputs": [],
   "metadata": {}
  },
  {
   "cell_type": "code",
   "execution_count": 74,
   "source": [
    "def relu(x):\r\n",
    "    return x * (x > 0), x"
   ],
   "outputs": [],
   "metadata": {}
  },
  {
   "cell_type": "code",
   "execution_count": 22,
   "source": [
    "def sigmoid(z):\r\n",
    "    s = 1 / (1 + np.exp(-z))\r\n",
    "    return s, z"
   ],
   "outputs": [],
   "metadata": {}
  },
  {
   "cell_type": "code",
   "execution_count": 23,
   "source": [
    "def sigmoid_backward(dA, cache):\r\n",
    "    Z = cache\r\n",
    "    s = 1 / (1 + np.exp(-Z))\r\n",
    "    dZ = dA * s * (1 - s)\r\n",
    "    return dZ"
   ],
   "outputs": [],
   "metadata": {}
  },
  {
   "cell_type": "code",
   "execution_count": 24,
   "source": [
    "def relu_backward(dA, cache):\r\n",
    "    Z = cache\r\n",
    "    dZ = np.array(dA, copy=True)\r\n",
    "    dZ[Z <= 0] = 0\r\n",
    "    return dZ"
   ],
   "outputs": [],
   "metadata": {}
  },
  {
   "cell_type": "code",
   "execution_count": 25,
   "source": [
    "X = train_x\r\n",
    "parameters = initialize_parameters(n_x, n_h, n_y)\r\n",
    "W1 = parameters[\"W1\"]\r\n",
    "b1 = parameters[\"b1\"]\r\n",
    "Z, linear_cache = linear_forward(X, W1, b1)\r\n",
    "A, activation_cache = sigmoid(Z)"
   ],
   "outputs": [],
   "metadata": {}
  },
  {
   "cell_type": "code",
   "execution_count": 76,
   "source": [
    "parameters, costs = two_layer_model(train_x, train_set_y, layers_dims = (n_x, n_h, n_y), num_iterations = 2500, print_cost=True)\r\n",
    "plot_costs(costs, learning_rate)"
   ],
   "outputs": [
    {
     "output_type": "stream",
     "name": "stdout",
     "text": [
      "Cost after iteration 0: 0.693049735659989\n",
      "Cost after iteration 100: 0.6464320953428849\n",
      "Cost after iteration 200: 0.6325140647912677\n",
      "Cost after iteration 300: 0.6015024920354665\n",
      "Cost after iteration 400: 0.5601966311605747\n",
      "Cost after iteration 500: 0.5158304772764729\n",
      "Cost after iteration 600: 0.47549013139433255\n",
      "Cost after iteration 700: 0.4339163151225749\n",
      "Cost after iteration 800: 0.400797753620389\n",
      "Cost after iteration 900: 0.3580705011323798\n",
      "Cost after iteration 1000: 0.3394281538366412\n",
      "Cost after iteration 1100: 0.30527536361962637\n",
      "Cost after iteration 1200: 0.27491377282130197\n",
      "Cost after iteration 1300: 0.24681768210614832\n",
      "Cost after iteration 1400: 0.19850735037466116\n",
      "Cost after iteration 1500: 0.1744831811255664\n",
      "Cost after iteration 1600: 0.17080762978095304\n",
      "Cost after iteration 1700: 0.11306524562164758\n",
      "Cost after iteration 1800: 0.09629426845937161\n",
      "Cost after iteration 1900: 0.08342617959726858\n",
      "Cost after iteration 2000: 0.07439078704319077\n",
      "Cost after iteration 2100: 0.06630748132267923\n",
      "Cost after iteration 2200: 0.05919329501038164\n",
      "Cost after iteration 2300: 0.0533614034856055\n",
      "Cost after iteration 2400: 0.04855478562877013\n",
      "Cost after iteration 2499: 0.0442149821586895\n"
     ]
    },
    {
     "output_type": "display_data",
     "data": {
      "image/png": "[encoded data removed]",
      "text/plain": [
       "<Figure size 432x288 with 1 Axes>"
      ]
     },
     "metadata": {
      "needs_background": "light"
     }
    }
   ],
   "metadata": {}
  },
  {
   "cell_type": "code",
   "execution_count": 79,
   "source": [
    "def forward_propagation(X, parameters):\r\n",
    "    \"\"\"\r\n",
    "    Argument:\r\n",
    "    X -- input data of size (n_x, m)\r\n",
    "    parameters -- python dictionary containing your parameters (output of initialization function)\r\n",
    "    \r\n",
    "    Returns:\r\n",
    "    A2 -- The sigmoid output of the second activation\r\n",
    "    cache -- a dictionary containing \"Z1\", \"A1\", \"Z2\" and \"A2\"\r\n",
    "    \"\"\"\r\n",
    "    W1 = parameters['W1']\r\n",
    "    b1 = parameters['b1']\r\n",
    "    W2 = parameters['W2']\r\n",
    "    b2 = parameters['b2']\r\n",
    "    Z1 = np.dot(W1, X) + b1\r\n",
    "    A1, XX = relu(Z1)\r\n",
    "    Z2 = np.dot(W2, A1) + b2\r\n",
    "    A2, XX = sigmoid(Z2)\r\n",
    "    \r\n",
    "    cache = {\"Z1\": Z1,\r\n",
    "             \"A1\": A1,\r\n",
    "             \"Z2\": Z2,\r\n",
    "             \"A2\": A2}\r\n",
    "    \r\n",
    "    return A2, cache"
   ],
   "outputs": [],
   "metadata": {}
  },
  {
   "cell_type": "code",
   "execution_count": 90,
   "source": [
    "def predict(X, Y, parameters):\r\n",
    "    m = X.shape[1]\r\n",
    "    Y_prediction = np.zeros((1, m))\r\n",
    "    if len(parameters)>4:\r\n",
    "        A, cache = L_model_forward(X, parameters)\r\n",
    "    else:\r\n",
    "        A, cache = forward_propagation(X, parameters)\r\n",
    "    \r\n",
    "    for i in range(A.shape[1]):\r\n",
    "        Y_prediction[0, i] = 1 if A[0, i] > 0.5 else 0\r\n",
    "\r\n",
    "    print(Y_prediction)\r\n",
    "    accuracy = float((np.dot(Y,Y_prediction.T) + np.dot(1 - Y, 1 - Y_prediction.T)) / float(Y.size)*100)\r\n",
    "    print (\"Accuracy: {} %\".format(accuracy))\r\n",
    "    return Y_prediction"
   ],
   "outputs": [],
   "metadata": {}
  },
  {
   "cell_type": "code",
   "execution_count": 81,
   "source": [
    "predictions_train = predict(train_x, train_set_y, parameters)"
   ],
   "outputs": [
    {
     "output_type": "stream",
     "name": "stdout",
     "text": [
      "parameters length 4\n",
      "Accuracy: 100.0 %\n"
     ]
    }
   ],
   "metadata": {}
  },
  {
   "cell_type": "code",
   "execution_count": 82,
   "source": [
    "predictions_test = predict(test_x, test_set_y, parameters)"
   ],
   "outputs": [
    {
     "output_type": "stream",
     "name": "stdout",
     "text": [
      "parameters length 4\n",
      "Accuracy: 72.0 %\n"
     ]
    }
   ],
   "metadata": {}
  },
  {
   "cell_type": "code",
   "execution_count": 32,
   "source": [
    "### CONSTANTS ###\r\n",
    "layers_dims = [12288, 20, 7, 5, 1] #  4-layer model"
   ],
   "outputs": [],
   "metadata": {}
  },
  {
   "cell_type": "code",
   "execution_count": 33,
   "source": [
    "def save_param(iteration, cost, parameters, layers_dims):\r\n",
    "    data = [iteration, cost]\r\n",
    "    np.savetxt('cost.txt', data, delimiter=',')\r\n",
    "    L = layers_dims[3]-1+1\r\n",
    "    for l in range(1, L):\r\n",
    "        np.savetxt(f\"fileW{l}.txt\", parameters[f\"W{l}\"], delimiter=',')\r\n",
    "        np.savetxt(f\"fileB{l}.txt\", parameters[f\"b{l}\"], delimiter=',')"
   ],
   "outputs": [],
   "metadata": {}
  },
  {
   "cell_type": "code",
   "execution_count": 47,
   "source": [
    "def L_layer_model(X, Y, layers_dims, learning_rate = 0.0075, num_iterations = 3000, print_cost=False):\r\n",
    "    \"\"\"\r\n",
    "    Implements a L-layer neural network: [LINEAR->RELU]*(L-1)->LINEAR->SIGMOID.\r\n",
    "    \r\n",
    "    Arguments:\r\n",
    "    X -- data, numpy array of shape (num_px * num_px * 3, number of examples)\r\n",
    "    Y -- true \"label\" vector (containing 0 if cat, 1 if non-cat), of shape (1, number of examples)\r\n",
    "    layers_dims -- list containing the input size and each layer size, of length (number of layers + 1).\r\n",
    "    learning_rate -- learning rate of the gradient descent update rule\r\n",
    "    num_iterations -- number of iterations of the optimization loop\r\n",
    "    print_cost -- if True, it prints the cost every 100 steps\r\n",
    "    \r\n",
    "    Returns:\r\n",
    "    parameters -- parameters learnt by the model. They can then be used to predict.\r\n",
    "    \"\"\"\r\n",
    "\r\n",
    "    np.random.seed(1)\r\n",
    "    costs = []                         # keep track of cost\r\n",
    "    grads = {}\r\n",
    "    start_i = 0\r\n",
    "    L = layers_dims[3]-1+1\r\n",
    "    # num_iterations = 2500 # modify iterations (default is 2500)\r\n",
    "    parameters = initialize_parameters_deep(layers_dims)\r\n",
    "    \r\n",
    "    # Load W and b parameters if the files are there\r\n",
    "    if os.path.isfile(\"cost.txt\"):\r\n",
    "        data = np.loadtxt(\"cost.txt\", delimiter=',')\r\n",
    "        num_iterations += int(data[0])\r\n",
    "        start_i = int(data[0]) - 1\r\n",
    "        print(f\"Loaded last parameters with cost of {data[1]} and {int(data[0])} iteration\")\r\n",
    "    for l in range(1, L):\r\n",
    "        if os.path.isfile(f\"fileW{l}.txt\"):\r\n",
    "            parameters['W' + str(l)] = np.loadtxt(f\"fileW{l}.txt\", delimiter=',')\r\n",
    "            if l==4:\r\n",
    "                parameters['W' + str(l)] = np.reshape(parameters['W' + str(l)], (-1, 1)).T\r\n",
    "        if os.path.isfile(f\"fileB{l}.txt\"):\r\n",
    "            parameters['b' + str(l)] = np.loadtxt(f\"fileB{l}.txt\", delimiter=',')\r\n",
    "            parameters['b' + str(l)] = np.reshape(parameters['b' + str(l)], (-1, 1))\r\n",
    "        \r\n",
    "    for i in range(start_i, num_iterations):\r\n",
    "        AL, caches = L_model_forward(X, parameters)\r\n",
    "        cost = compute_cost(AL, Y)\r\n",
    "        grads = L_model_backward(AL, Y, caches)\r\n",
    "        parameters = update_parameters(parameters, grads, learning_rate)\r\n",
    "\r\n",
    "        if print_cost and i % 100 == 0 or i == num_iterations - 1:\r\n",
    "            print(\"Cost after iteration {}: {}\".format(i, np.squeeze(cost)))\r\n",
    "        if i % 100 == 0 or i == num_iterations:\r\n",
    "            costs.append(cost)\r\n",
    "    \r\n",
    "    save_param(num_iterations, cost, parameters, layers_dims)\r\n",
    "    print(\"saved parameters.\")\r\n",
    "\r\n",
    "    return parameters, costs"
   ],
   "outputs": [],
   "metadata": {}
  },
  {
   "cell_type": "code",
   "execution_count": 83,
   "source": [
    "# change the iterations here.\r\n",
    "parameters, costs = L_layer_model(train_x, train_set_y, layers_dims, num_iterations = 2500, print_cost = True)"
   ],
   "outputs": [
    {
     "output_type": "stream",
     "name": "stdout",
     "text": [
      "Loaded last parameters with cost of 0.02036179849184959 and 22500 iteration\n",
      "Cost after iteration 22500: 0.020351041946691305\n",
      "Cost after iteration 22600: 0.02018324521919703\n",
      "Cost after iteration 22700: 0.019914909568920048\n",
      "Cost after iteration 22800: 0.019708493328333\n",
      "Cost after iteration 22900: 0.019501631580408036\n",
      "Cost after iteration 23000: 0.019295821641221\n",
      "Cost after iteration 23100: 0.019106857668133654\n",
      "Cost after iteration 23200: 0.018898500273811934\n",
      "Cost after iteration 23300: 0.018749729814797163\n",
      "Cost after iteration 23400: 0.01852823756751555\n",
      "Cost after iteration 23500: 0.01833211239397312\n",
      "Cost after iteration 23600: 0.01816470990494857\n",
      "Cost after iteration 23700: 0.01797515674589065\n",
      "Cost after iteration 23800: 0.017795266808548003\n",
      "Cost after iteration 23900: 0.017632954830587914\n",
      "Cost after iteration 24000: 0.017450733876101552\n",
      "Cost after iteration 24100: 0.017281161380994996\n",
      "Cost after iteration 24200: 0.017148701130715944\n",
      "Cost after iteration 24300: 0.016955050844831884\n",
      "Cost after iteration 24400: 0.016816906022857445\n",
      "Cost after iteration 24500: 0.01664408460550995\n",
      "Cost after iteration 24600: 0.016499794055254185\n",
      "Cost after iteration 24700: 0.016371821285017456\n",
      "Cost after iteration 24800: 0.01619713136529463\n",
      "Cost after iteration 24900: 0.016039612669365683\n",
      "Cost after iteration 24999: 0.015905930929082452\n",
      "saved parameters.\n"
     ]
    }
   ],
   "metadata": {}
  },
  {
   "cell_type": "code",
   "execution_count": 87,
   "source": [
    "pred_train = predict(train_x, train_set_y, parameters)"
   ],
   "outputs": [
    {
     "output_type": "stream",
     "name": "stdout",
     "text": [
      "Accuracy: 100.0 %\n"
     ]
    }
   ],
   "metadata": {}
  },
  {
   "cell_type": "code",
   "execution_count": 88,
   "source": [
    "pred_test = predict(test_x, test_set_y, parameters)"
   ],
   "outputs": [
    {
     "output_type": "stream",
     "name": "stdout",
     "text": [
      "Accuracy: 72.0 %\n"
     ]
    }
   ],
   "metadata": {}
  },
  {
   "cell_type": "code",
   "execution_count": 92,
   "source": [
    "my_image = \"nell.jpg\"   \r\n",
    "my_label_y = [0] # the true class of your image (1 -> cat, 0 -> non-cat)\r\n",
    "\r\n",
    "fname = my_image\r\n",
    "image = np.array(Image.open(fname).resize((num_px, num_px)))\r\n",
    "plt.imshow(image)\r\n",
    "image = image / 255.\r\n",
    "image = image.reshape((1, num_px * num_px * 3)).T\r\n",
    "\r\n",
    "my_predicted_image = predict(image, my_label_y, parameters)\r\n",
    "\r\n",
    "\r\n",
    "print (\"y = \" + str(np.squeeze(my_predicted_image)) + \", your L-layer model predicts a \\\"\" + classes[int(np.squeeze(my_predicted_image)),].decode(\"utf-8\") +  \"\\\" picture.\")\r\n",
    "\r\n",
    "\r\n",
    "\r\n",
    "\r\n",
    "#fname = my_image\r\n",
    "#image = np.array(Image.open(fname).resize((num_px, num_px)))\r\n",
    "#plt.imshow(image)\r\n",
    "#image = image / 255.\r\n",
    "#image = image.reshape((1, num_px * num_px * 3)).T\r\n",
    "#my_predicted_image = predict(logistic_regression_model[\"w\"], logistic_regression_model[\"b\"], image)\r\n",
    "\r\n",
    "#print(\"y = \" + str(np.squeeze(my_predicted_image)) + \", your algorithm predicts a \\\"\" + test_classes[int(np.squeeze(my_predicted_image)),].decode(\"utf-8\") +  \"\\\" picture.\")"
   ],
   "outputs": [
    {
     "output_type": "stream",
     "name": "stdout",
     "text": [
      "[[0.]]\n"
     ]
    },
    {
     "output_type": "error",
     "ename": "TypeError",
     "evalue": "unsupported operand type(s) for -: 'int' and 'list'",
     "traceback": [
      "\u001b[1;31m---------------------------------------------------------------------------\u001b[0m",
      "\u001b[1;31mTypeError\u001b[0m                                 Traceback (most recent call last)",
      "\u001b[1;32m<ipython-input-92-785b3d7c9d57>\u001b[0m in \u001b[0;36m<module>\u001b[1;34m\u001b[0m\n\u001b[0;32m      8\u001b[0m \u001b[0mimage\u001b[0m \u001b[1;33m=\u001b[0m \u001b[0mimage\u001b[0m\u001b[1;33m.\u001b[0m\u001b[0mreshape\u001b[0m\u001b[1;33m(\u001b[0m\u001b[1;33m(\u001b[0m\u001b[1;36m1\u001b[0m\u001b[1;33m,\u001b[0m \u001b[0mnum_px\u001b[0m \u001b[1;33m*\u001b[0m \u001b[0mnum_px\u001b[0m \u001b[1;33m*\u001b[0m \u001b[1;36m3\u001b[0m\u001b[1;33m)\u001b[0m\u001b[1;33m)\u001b[0m\u001b[1;33m.\u001b[0m\u001b[0mT\u001b[0m\u001b[1;33m\u001b[0m\u001b[1;33m\u001b[0m\u001b[0m\n\u001b[0;32m      9\u001b[0m \u001b[1;33m\u001b[0m\u001b[0m\n\u001b[1;32m---> 10\u001b[1;33m \u001b[0mmy_predicted_image\u001b[0m \u001b[1;33m=\u001b[0m \u001b[0mpredict\u001b[0m\u001b[1;33m(\u001b[0m\u001b[0mimage\u001b[0m\u001b[1;33m,\u001b[0m \u001b[0mmy_label_y\u001b[0m\u001b[1;33m,\u001b[0m \u001b[0mparameters\u001b[0m\u001b[1;33m)\u001b[0m\u001b[1;33m\u001b[0m\u001b[1;33m\u001b[0m\u001b[0m\n\u001b[0m\u001b[0;32m     11\u001b[0m \u001b[1;33m\u001b[0m\u001b[0m\n\u001b[0;32m     12\u001b[0m \u001b[1;33m\u001b[0m\u001b[0m\n",
      "\u001b[1;32m<ipython-input-90-62011add048b>\u001b[0m in \u001b[0;36mpredict\u001b[1;34m(X, Y, parameters)\u001b[0m\n\u001b[0;32m     11\u001b[0m \u001b[1;33m\u001b[0m\u001b[0m\n\u001b[0;32m     12\u001b[0m     \u001b[0mprint\u001b[0m\u001b[1;33m(\u001b[0m\u001b[0mY_prediction\u001b[0m\u001b[1;33m)\u001b[0m\u001b[1;33m\u001b[0m\u001b[1;33m\u001b[0m\u001b[0m\n\u001b[1;32m---> 13\u001b[1;33m     \u001b[0maccuracy\u001b[0m \u001b[1;33m=\u001b[0m \u001b[0mfloat\u001b[0m\u001b[1;33m(\u001b[0m\u001b[1;33m(\u001b[0m\u001b[0mnp\u001b[0m\u001b[1;33m.\u001b[0m\u001b[0mdot\u001b[0m\u001b[1;33m(\u001b[0m\u001b[0mY\u001b[0m\u001b[1;33m,\u001b[0m\u001b[0mY_prediction\u001b[0m\u001b[1;33m.\u001b[0m\u001b[0mT\u001b[0m\u001b[1;33m)\u001b[0m \u001b[1;33m+\u001b[0m \u001b[0mnp\u001b[0m\u001b[1;33m.\u001b[0m\u001b[0mdot\u001b[0m\u001b[1;33m(\u001b[0m\u001b[1;36m1\u001b[0m \u001b[1;33m-\u001b[0m \u001b[0mY\u001b[0m\u001b[1;33m,\u001b[0m \u001b[1;36m1\u001b[0m \u001b[1;33m-\u001b[0m \u001b[0mY_prediction\u001b[0m\u001b[1;33m.\u001b[0m\u001b[0mT\u001b[0m\u001b[1;33m)\u001b[0m\u001b[1;33m)\u001b[0m \u001b[1;33m/\u001b[0m \u001b[0mfloat\u001b[0m\u001b[1;33m(\u001b[0m\u001b[0mY\u001b[0m\u001b[1;33m.\u001b[0m\u001b[0msize\u001b[0m\u001b[1;33m)\u001b[0m\u001b[1;33m*\u001b[0m\u001b[1;36m100\u001b[0m\u001b[1;33m)\u001b[0m\u001b[1;33m\u001b[0m\u001b[1;33m\u001b[0m\u001b[0m\n\u001b[0m\u001b[0;32m     14\u001b[0m     \u001b[0mprint\u001b[0m \u001b[1;33m(\u001b[0m\u001b[1;34m\"Accuracy: {} %\"\u001b[0m\u001b[1;33m.\u001b[0m\u001b[0mformat\u001b[0m\u001b[1;33m(\u001b[0m\u001b[0maccuracy\u001b[0m\u001b[1;33m)\u001b[0m\u001b[1;33m)\u001b[0m\u001b[1;33m\u001b[0m\u001b[1;33m\u001b[0m\u001b[0m\n\u001b[0;32m     15\u001b[0m     \u001b[1;32mreturn\u001b[0m \u001b[0mY_prediction\u001b[0m\u001b[1;33m\u001b[0m\u001b[1;33m\u001b[0m\u001b[0m\n",
      "\u001b[1;31mTypeError\u001b[0m: unsupported operand type(s) for -: 'int' and 'list'"
     ]
    },
    {
     "output_type": "display_data",
     "data": {
      "image/png": "[encoded data removed]",
      "text/plain": [
       "<Figure size 432x288 with 1 Axes>"
      ]
     },
     "metadata": {
      "needs_background": "light"
     }
    }
   ],
   "metadata": {}
  },
  {
   "cell_type": "code",
   "execution_count": null,
   "source": [
    "my_image = \"bao.jpg\"   \r\n",
    "\r\n",
    "fname = my_image\r\n",
    "image = np.array(Image.open(fname).resize((num_px, num_px)))\r\n",
    "plt.imshow(image)\r\n",
    "image = image / 255.\r\n",
    "image = image.reshape((1, num_px * num_px * 3)).T\r\n",
    "my_predicted_image = predict(logistic_regression_model[\"w\"], logistic_regression_model[\"b\"], image)\r\n",
    "\r\n",
    "print(\"y = \" + str(np.squeeze(my_predicted_image)) + \", your algorithm predicts a \\\"\" + test_classes[int(np.squeeze(my_predicted_image)),].decode(\"utf-8\") +  \"\\\" picture.\")"
   ],
   "outputs": [
    {
     "output_type": "error",
     "ename": "NameError",
     "evalue": "name 'logistic_regression_model' is not defined",
     "traceback": [
      "\u001b[1;31m---------------------------------------------------------------------------\u001b[0m",
      "\u001b[1;31mNameError\u001b[0m                                 Traceback (most recent call last)",
      "\u001b[1;32m<ipython-input-32-1652f77a76ef>\u001b[0m in \u001b[0;36m<module>\u001b[1;34m\u001b[0m\n\u001b[0;32m      6\u001b[0m \u001b[0mimage\u001b[0m \u001b[1;33m=\u001b[0m \u001b[0mimage\u001b[0m \u001b[1;33m/\u001b[0m \u001b[1;36m255.\u001b[0m\u001b[1;33m\u001b[0m\u001b[1;33m\u001b[0m\u001b[0m\n\u001b[0;32m      7\u001b[0m \u001b[0mimage\u001b[0m \u001b[1;33m=\u001b[0m \u001b[0mimage\u001b[0m\u001b[1;33m.\u001b[0m\u001b[0mreshape\u001b[0m\u001b[1;33m(\u001b[0m\u001b[1;33m(\u001b[0m\u001b[1;36m1\u001b[0m\u001b[1;33m,\u001b[0m \u001b[0mnum_px\u001b[0m \u001b[1;33m*\u001b[0m \u001b[0mnum_px\u001b[0m \u001b[1;33m*\u001b[0m \u001b[1;36m3\u001b[0m\u001b[1;33m)\u001b[0m\u001b[1;33m)\u001b[0m\u001b[1;33m.\u001b[0m\u001b[0mT\u001b[0m\u001b[1;33m\u001b[0m\u001b[1;33m\u001b[0m\u001b[0m\n\u001b[1;32m----> 8\u001b[1;33m \u001b[0mmy_predicted_image\u001b[0m \u001b[1;33m=\u001b[0m \u001b[0mpredict\u001b[0m\u001b[1;33m(\u001b[0m\u001b[0mlogistic_regression_model\u001b[0m\u001b[1;33m[\u001b[0m\u001b[1;34m\"w\"\u001b[0m\u001b[1;33m]\u001b[0m\u001b[1;33m,\u001b[0m \u001b[0mlogistic_regression_model\u001b[0m\u001b[1;33m[\u001b[0m\u001b[1;34m\"b\"\u001b[0m\u001b[1;33m]\u001b[0m\u001b[1;33m,\u001b[0m \u001b[0mimage\u001b[0m\u001b[1;33m)\u001b[0m\u001b[1;33m\u001b[0m\u001b[1;33m\u001b[0m\u001b[0m\n\u001b[0m\u001b[0;32m      9\u001b[0m \u001b[1;33m\u001b[0m\u001b[0m\n\u001b[0;32m     10\u001b[0m \u001b[0mprint\u001b[0m\u001b[1;33m(\u001b[0m\u001b[1;34m\"y = \"\u001b[0m \u001b[1;33m+\u001b[0m \u001b[0mstr\u001b[0m\u001b[1;33m(\u001b[0m\u001b[0mnp\u001b[0m\u001b[1;33m.\u001b[0m\u001b[0msqueeze\u001b[0m\u001b[1;33m(\u001b[0m\u001b[0mmy_predicted_image\u001b[0m\u001b[1;33m)\u001b[0m\u001b[1;33m)\u001b[0m \u001b[1;33m+\u001b[0m \u001b[1;34m\", your algorithm predicts a \\\"\"\u001b[0m \u001b[1;33m+\u001b[0m \u001b[0mtest_classes\u001b[0m\u001b[1;33m[\u001b[0m\u001b[0mint\u001b[0m\u001b[1;33m(\u001b[0m\u001b[0mnp\u001b[0m\u001b[1;33m.\u001b[0m\u001b[0msqueeze\u001b[0m\u001b[1;33m(\u001b[0m\u001b[0mmy_predicted_image\u001b[0m\u001b[1;33m)\u001b[0m\u001b[1;33m)\u001b[0m\u001b[1;33m,\u001b[0m\u001b[1;33m]\u001b[0m\u001b[1;33m.\u001b[0m\u001b[0mdecode\u001b[0m\u001b[1;33m(\u001b[0m\u001b[1;34m\"utf-8\"\u001b[0m\u001b[1;33m)\u001b[0m \u001b[1;33m+\u001b[0m  \u001b[1;34m\"\\\" picture.\"\u001b[0m\u001b[1;33m)\u001b[0m\u001b[1;33m\u001b[0m\u001b[1;33m\u001b[0m\u001b[0m\n",
      "\u001b[1;31mNameError\u001b[0m: name 'logistic_regression_model' is not defined"
     ]
    },
    {
     "output_type": "display_data",
     "data": {
      "image/png": "[encoded data removed]",
      "image/svg+xml": "<?xml version=\"1.0\" encoding=\"utf-8\" standalone=\"no\"?>\r\n<!DOCTYPE svg PUBLIC \"-//W3C//DTD SVG 1.1//EN\"\r\n  \"http://www.w3.org/Graphics/SVG/1.1/DTD/svg11.dtd\">\r\n<!-- Created with matplotlib (https://matplotlib.org/) -->\r\n<svg height=\"250.618594pt\" version=\"1.1\" viewBox=\"0 0 251.565 250.618594\" width=\"251.565pt\" xmlns=\"http://www.w3.org/2000/svg\" xmlns:xlink=\"http://www.w3.org/1999/xlink\">\r\n <metadata>\r\n  <rdf:RDF xmlns:cc=\"http://creativecommons.org/ns#\" xmlns:dc=\"http://purl.org/dc/elements/1.1/\" xmlns:rdf=\"http://www.w3.org/1999/02/22-rdf-syntax-ns#\">\r\n   <cc:Work>\r\n    <dc:type rdf:resource=\"http://purl.org/dc/dcmitype/StillImage\"/>\r\n    <dc:date>2021-08-29T15:15:28.267085</dc:date>\r\n    <dc:format>image/svg+xml</dc:format>\r\n    <dc:creator>\r\n     <cc:Agent>\r\n      <dc:title>Matplotlib v3.3.4, https://matplotlib.org/</dc:title>\r\n     </cc:Agent>\r\n    </dc:creator>\r\n   </cc:Work>\r\n  </rdf:RDF>\r\n </metadata>\r\n <defs>\r\n  <style type=\"text/css\">*{stroke-linecap:butt;stroke-linejoin:round;}</style>\r\n </defs>\r\n <g id=\"figure_1\">\r\n  <g id=\"patch_1\">\r\n   <path d=\"M 0 250.618594 \r\nL 251.565 250.618594 \r\nL 251.565 0 \r\nL 0 0 \r\nz\r\n\" style=\"fill:none;\"/>\r\n  </g>\r\n  <g id=\"axes_1\">\r\n   <g id=\"patch_2\">\r\n    <path d=\"M 26.925 226.740469 \r\nL 244.365 226.740469 \r\nL 244.365 9.300469 \r\nL 26.925 9.300469 \r\nz\r\n\" style=\"fill:#ffffff;\"/>\r\n   </g>\r\n   <g clip-path=\"url(#pcfae4db05f)\">\r\n    <image height=\"218\" id=\"imageaeecdefa72\" transform=\"scale(1 -1)translate(0 -218)\" width=\"218\" x=\"26.925\" xlink:href=\"data:image/png;base64,\r\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\" y=\"-8.740469\"/>\r\n   </g>\r\n   <g id=\"matplotlib.axis_1\">\r\n    <g id=\"xtick_1\">\r\n     <g id=\"line2d_1\">\r\n      <defs>\r\n       <path d=\"M 0 0 \r\nL 0 3.5 \r\n\" id=\"m3cd2aee1fa\" style=\"stroke:#000000;stroke-width:0.8;\"/>\r\n      </defs>\r\n      <g>\r\n       <use style=\"stroke:#000000;stroke-width:0.8;\" x=\"28.62375\" xlink:href=\"#m3cd2aee1fa\" y=\"226.740469\"/>\r\n      </g>\r\n     </g>\r\n     <g id=\"text_1\">\r\n      <!-- 0 -->\r\n      <g transform=\"translate(25.4425 241.338906)scale(0.1 -0.1)\">\r\n       <defs>\r\n        <path d=\"M 31.78125 66.40625 \r\nQ 24.171875 66.40625 20.328125 58.90625 \r\nQ 16.5 51.421875 16.5 36.375 \r\nQ 16.5 21.390625 20.328125 13.890625 \r\nQ 24.171875 6.390625 31.78125 6.390625 \r\nQ 39.453125 6.390625 43.28125 13.890625 \r\nQ 47.125 21.390625 47.125 36.375 \r\nQ 47.125 51.421875 43.28125 58.90625 \r\nQ 39.453125 66.40625 31.78125 66.40625 \r\nz\r\nM 31.78125 74.21875 \r\nQ 44.046875 74.21875 50.515625 64.515625 \r\nQ 56.984375 54.828125 56.984375 36.375 \r\nQ 56.984375 17.96875 50.515625 8.265625 \r\nQ 44.046875 -1.421875 31.78125 -1.421875 \r\nQ 19.53125 -1.421875 13.0625 8.265625 \r\nQ 6.59375 17.96875 6.59375 36.375 \r\nQ 6.59375 54.828125 13.0625 64.515625 \r\nQ 19.53125 74.21875 31.78125 74.21875 \r\nz\r\n\" id=\"DejaVuSans-48\"/>\r\n       </defs>\r\n       <use xlink:href=\"#DejaVuSans-48\"/>\r\n      </g>\r\n     </g>\r\n    </g>\r\n    <g id=\"xtick_2\">\r\n     <g id=\"line2d_2\">\r\n      <g>\r\n       <use style=\"stroke:#000000;stroke-width:0.8;\" x=\"62.59875\" xlink:href=\"#m3cd2aee1fa\" y=\"226.740469\"/>\r\n      </g>\r\n     </g>\r\n     <g id=\"text_2\">\r\n      <!-- 10 -->\r\n      <g transform=\"translate(56.23625 241.338906)scale(0.1 -0.1)\">\r\n       <defs>\r\n        <path d=\"M 12.40625 8.296875 \r\nL 28.515625 8.296875 \r\nL 28.515625 63.921875 \r\nL 10.984375 60.40625 \r\nL 10.984375 69.390625 \r\nL 28.421875 72.90625 \r\nL 38.28125 72.90625 \r\nL 38.28125 8.296875 \r\nL 54.390625 8.296875 \r\nL 54.390625 0 \r\nL 12.40625 0 \r\nz\r\n\" id=\"DejaVuSans-49\"/>\r\n       </defs>\r\n       <use xlink:href=\"#DejaVuSans-49\"/>\r\n       <use x=\"63.623047\" xlink:href=\"#DejaVuSans-48\"/>\r\n      </g>\r\n     </g>\r\n    </g>\r\n    <g id=\"xtick_3\">\r\n     <g id=\"line2d_3\">\r\n      <g>\r\n       <use style=\"stroke:#000000;stroke-width:0.8;\" x=\"96.57375\" xlink:href=\"#m3cd2aee1fa\" y=\"226.740469\"/>\r\n      </g>\r\n     </g>\r\n     <g id=\"text_3\">\r\n      <!-- 20 -->\r\n      <g transform=\"translate(90.21125 241.338906)scale(0.1 -0.1)\">\r\n       <defs>\r\n        <path d=\"M 19.1875 8.296875 \r\nL 53.609375 8.296875 \r\nL 53.609375 0 \r\nL 7.328125 0 \r\nL 7.328125 8.296875 \r\nQ 12.9375 14.109375 22.625 23.890625 \r\nQ 32.328125 33.6875 34.8125 36.53125 \r\nQ 39.546875 41.84375 41.421875 45.53125 \r\nQ 43.3125 49.21875 43.3125 52.78125 \r\nQ 43.3125 58.59375 39.234375 62.25 \r\nQ 35.15625 65.921875 28.609375 65.921875 \r\nQ 23.96875 65.921875 18.8125 64.3125 \r\nQ 13.671875 62.703125 7.8125 59.421875 \r\nL 7.8125 69.390625 \r\nQ 13.765625 71.78125 18.9375 73 \r\nQ 24.125 74.21875 28.421875 74.21875 \r\nQ 39.75 74.21875 46.484375 68.546875 \r\nQ 53.21875 62.890625 53.21875 53.421875 \r\nQ 53.21875 48.921875 51.53125 44.890625 \r\nQ 49.859375 40.875 45.40625 35.40625 \r\nQ 44.1875 33.984375 37.640625 27.21875 \r\nQ 31.109375 20.453125 19.1875 8.296875 \r\nz\r\n\" id=\"DejaVuSans-50\"/>\r\n       </defs>\r\n       <use xlink:href=\"#DejaVuSans-50\"/>\r\n       <use x=\"63.623047\" xlink:href=\"#DejaVuSans-48\"/>\r\n      </g>\r\n     </g>\r\n    </g>\r\n    <g id=\"xtick_4\">\r\n     <g id=\"line2d_4\">\r\n      <g>\r\n       <use style=\"stroke:#000000;stroke-width:0.8;\" x=\"130.54875\" xlink:href=\"#m3cd2aee1fa\" y=\"226.740469\"/>\r\n      </g>\r\n     </g>\r\n     <g id=\"text_4\">\r\n      <!-- 30 -->\r\n      <g transform=\"translate(124.18625 241.338906)scale(0.1 -0.1)\">\r\n       <defs>\r\n        <path d=\"M 40.578125 39.3125 \r\nQ 47.65625 37.796875 51.625 33 \r\nQ 55.609375 28.21875 55.609375 21.1875 \r\nQ 55.609375 10.40625 48.1875 4.484375 \r\nQ 40.765625 -1.421875 27.09375 -1.421875 \r\nQ 22.515625 -1.421875 17.65625 -0.515625 \r\nQ 12.796875 0.390625 7.625 2.203125 \r\nL 7.625 11.71875 \r\nQ 11.71875 9.328125 16.59375 8.109375 \r\nQ 21.484375 6.890625 26.8125 6.890625 \r\nQ 36.078125 6.890625 40.9375 10.546875 \r\nQ 45.796875 14.203125 45.796875 21.1875 \r\nQ 45.796875 27.640625 41.28125 31.265625 \r\nQ 36.765625 34.90625 28.71875 34.90625 \r\nL 20.21875 34.90625 \r\nL 20.21875 43.015625 \r\nL 29.109375 43.015625 \r\nQ 36.375 43.015625 40.234375 45.921875 \r\nQ 44.09375 48.828125 44.09375 54.296875 \r\nQ 44.09375 59.90625 40.109375 62.90625 \r\nQ 36.140625 65.921875 28.71875 65.921875 \r\nQ 24.65625 65.921875 20.015625 65.03125 \r\nQ 15.375 64.15625 9.8125 62.3125 \r\nL 9.8125 71.09375 \r\nQ 15.4375 72.65625 20.34375 73.4375 \r\nQ 25.25 74.21875 29.59375 74.21875 \r\nQ 40.828125 74.21875 47.359375 69.109375 \r\nQ 53.90625 64.015625 53.90625 55.328125 \r\nQ 53.90625 49.265625 50.4375 45.09375 \r\nQ 46.96875 40.921875 40.578125 39.3125 \r\nz\r\n\" id=\"DejaVuSans-51\"/>\r\n       </defs>\r\n       <use xlink:href=\"#DejaVuSans-51\"/>\r\n       <use x=\"63.623047\" xlink:href=\"#DejaVuSans-48\"/>\r\n      </g>\r\n     </g>\r\n    </g>\r\n    <g id=\"xtick_5\">\r\n     <g id=\"line2d_5\">\r\n      <g>\r\n       <use style=\"stroke:#000000;stroke-width:0.8;\" x=\"164.52375\" xlink:href=\"#m3cd2aee1fa\" y=\"226.740469\"/>\r\n      </g>\r\n     </g>\r\n     <g id=\"text_5\">\r\n      <!-- 40 -->\r\n      <g transform=\"translate(158.16125 241.338906)scale(0.1 -0.1)\">\r\n       <defs>\r\n        <path d=\"M 37.796875 64.3125 \r\nL 12.890625 25.390625 \r\nL 37.796875 25.390625 \r\nz\r\nM 35.203125 72.90625 \r\nL 47.609375 72.90625 \r\nL 47.609375 25.390625 \r\nL 58.015625 25.390625 \r\nL 58.015625 17.1875 \r\nL 47.609375 17.1875 \r\nL 47.609375 0 \r\nL 37.796875 0 \r\nL 37.796875 17.1875 \r\nL 4.890625 17.1875 \r\nL 4.890625 26.703125 \r\nz\r\n\" id=\"DejaVuSans-52\"/>\r\n       </defs>\r\n       <use xlink:href=\"#DejaVuSans-52\"/>\r\n       <use x=\"63.623047\" xlink:href=\"#DejaVuSans-48\"/>\r\n      </g>\r\n     </g>\r\n    </g>\r\n    <g id=\"xtick_6\">\r\n     <g id=\"line2d_6\">\r\n      <g>\r\n       <use style=\"stroke:#000000;stroke-width:0.8;\" x=\"198.49875\" xlink:href=\"#m3cd2aee1fa\" y=\"226.740469\"/>\r\n      </g>\r\n     </g>\r\n     <g id=\"text_6\">\r\n      <!-- 50 -->\r\n      <g transform=\"translate(192.13625 241.338906)scale(0.1 -0.1)\">\r\n       <defs>\r\n        <path d=\"M 10.796875 72.90625 \r\nL 49.515625 72.90625 \r\nL 49.515625 64.59375 \r\nL 19.828125 64.59375 \r\nL 19.828125 46.734375 \r\nQ 21.96875 47.46875 24.109375 47.828125 \r\nQ 26.265625 48.1875 28.421875 48.1875 \r\nQ 40.625 48.1875 47.75 41.5 \r\nQ 54.890625 34.8125 54.890625 23.390625 \r\nQ 54.890625 11.625 47.5625 5.09375 \r\nQ 40.234375 -1.421875 26.90625 -1.421875 \r\nQ 22.3125 -1.421875 17.546875 -0.640625 \r\nQ 12.796875 0.140625 7.71875 1.703125 \r\nL 7.71875 11.625 \r\nQ 12.109375 9.234375 16.796875 8.0625 \r\nQ 21.484375 6.890625 26.703125 6.890625 \r\nQ 35.15625 6.890625 40.078125 11.328125 \r\nQ 45.015625 15.765625 45.015625 23.390625 \r\nQ 45.015625 31 40.078125 35.4375 \r\nQ 35.15625 39.890625 26.703125 39.890625 \r\nQ 22.75 39.890625 18.8125 39.015625 \r\nQ 14.890625 38.140625 10.796875 36.28125 \r\nz\r\n\" id=\"DejaVuSans-53\"/>\r\n       </defs>\r\n       <use xlink:href=\"#DejaVuSans-53\"/>\r\n       <use x=\"63.623047\" xlink:href=\"#DejaVuSans-48\"/>\r\n      </g>\r\n     </g>\r\n    </g>\r\n    <g id=\"xtick_7\">\r\n     <g id=\"line2d_7\">\r\n      <g>\r\n       <use style=\"stroke:#000000;stroke-width:0.8;\" x=\"232.47375\" xlink:href=\"#m3cd2aee1fa\" y=\"226.740469\"/>\r\n      </g>\r\n     </g>\r\n     <g id=\"text_7\">\r\n      <!-- 60 -->\r\n      <g transform=\"translate(226.11125 241.338906)scale(0.1 -0.1)\">\r\n       <defs>\r\n        <path d=\"M 33.015625 40.375 \r\nQ 26.375 40.375 22.484375 35.828125 \r\nQ 18.609375 31.296875 18.609375 23.390625 \r\nQ 18.609375 15.53125 22.484375 10.953125 \r\nQ 26.375 6.390625 33.015625 6.390625 \r\nQ 39.65625 6.390625 43.53125 10.953125 \r\nQ 47.40625 15.53125 47.40625 23.390625 \r\nQ 47.40625 31.296875 43.53125 35.828125 \r\nQ 39.65625 40.375 33.015625 40.375 \r\nz\r\nM 52.59375 71.296875 \r\nL 52.59375 62.3125 \r\nQ 48.875 64.0625 45.09375 64.984375 \r\nQ 41.3125 65.921875 37.59375 65.921875 \r\nQ 27.828125 65.921875 22.671875 59.328125 \r\nQ 17.53125 52.734375 16.796875 39.40625 \r\nQ 19.671875 43.65625 24.015625 45.921875 \r\nQ 28.375 48.1875 33.59375 48.1875 \r\nQ 44.578125 48.1875 50.953125 41.515625 \r\nQ 57.328125 34.859375 57.328125 23.390625 \r\nQ 57.328125 12.15625 50.6875 5.359375 \r\nQ 44.046875 -1.421875 33.015625 -1.421875 \r\nQ 20.359375 -1.421875 13.671875 8.265625 \r\nQ 6.984375 17.96875 6.984375 36.375 \r\nQ 6.984375 53.65625 15.1875 63.9375 \r\nQ 23.390625 74.21875 37.203125 74.21875 \r\nQ 40.921875 74.21875 44.703125 73.484375 \r\nQ 48.484375 72.75 52.59375 71.296875 \r\nz\r\n\" id=\"DejaVuSans-54\"/>\r\n       </defs>\r\n       <use xlink:href=\"#DejaVuSans-54\"/>\r\n       <use x=\"63.623047\" xlink:href=\"#DejaVuSans-48\"/>\r\n      </g>\r\n     </g>\r\n    </g>\r\n   </g>\r\n   <g id=\"matplotlib.axis_2\">\r\n    <g id=\"ytick_1\">\r\n     <g id=\"line2d_8\">\r\n      <defs>\r\n       <path d=\"M 0 0 \r\nL -3.5 0 \r\n\" id=\"m81118ae399\" style=\"stroke:#000000;stroke-width:0.8;\"/>\r\n      </defs>\r\n      <g>\r\n       <use style=\"stroke:#000000;stroke-width:0.8;\" x=\"26.925\" xlink:href=\"#m81118ae399\" y=\"10.999219\"/>\r\n      </g>\r\n     </g>\r\n     <g id=\"text_8\">\r\n      <!-- 0 -->\r\n      <g transform=\"translate(13.5625 14.798437)scale(0.1 -0.1)\">\r\n       <use xlink:href=\"#DejaVuSans-48\"/>\r\n      </g>\r\n     </g>\r\n    </g>\r\n    <g id=\"ytick_2\">\r\n     <g id=\"line2d_9\">\r\n      <g>\r\n       <use style=\"stroke:#000000;stroke-width:0.8;\" x=\"26.925\" xlink:href=\"#m81118ae399\" y=\"44.974219\"/>\r\n      </g>\r\n     </g>\r\n     <g id=\"text_9\">\r\n      <!-- 10 -->\r\n      <g transform=\"translate(7.2 48.773437)scale(0.1 -0.1)\">\r\n       <use xlink:href=\"#DejaVuSans-49\"/>\r\n       <use x=\"63.623047\" xlink:href=\"#DejaVuSans-48\"/>\r\n      </g>\r\n     </g>\r\n    </g>\r\n    <g id=\"ytick_3\">\r\n     <g id=\"line2d_10\">\r\n      <g>\r\n       <use style=\"stroke:#000000;stroke-width:0.8;\" x=\"26.925\" xlink:href=\"#m81118ae399\" y=\"78.949219\"/>\r\n      </g>\r\n     </g>\r\n     <g id=\"text_10\">\r\n      <!-- 20 -->\r\n      <g transform=\"translate(7.2 82.748437)scale(0.1 -0.1)\">\r\n       <use xlink:href=\"#DejaVuSans-50\"/>\r\n       <use x=\"63.623047\" xlink:href=\"#DejaVuSans-48\"/>\r\n      </g>\r\n     </g>\r\n    </g>\r\n    <g id=\"ytick_4\">\r\n     <g id=\"line2d_11\">\r\n      <g>\r\n       <use style=\"stroke:#000000;stroke-width:0.8;\" x=\"26.925\" xlink:href=\"#m81118ae399\" y=\"112.924219\"/>\r\n      </g>\r\n     </g>\r\n     <g id=\"text_11\">\r\n      <!-- 30 -->\r\n      <g transform=\"translate(7.2 116.723437)scale(0.1 -0.1)\">\r\n       <use xlink:href=\"#DejaVuSans-51\"/>\r\n       <use x=\"63.623047\" xlink:href=\"#DejaVuSans-48\"/>\r\n      </g>\r\n     </g>\r\n    </g>\r\n    <g id=\"ytick_5\">\r\n     <g id=\"line2d_12\">\r\n      <g>\r\n       <use style=\"stroke:#000000;stroke-width:0.8;\" x=\"26.925\" xlink:href=\"#m81118ae399\" y=\"146.899219\"/>\r\n      </g>\r\n     </g>\r\n     <g id=\"text_12\">\r\n      <!-- 40 -->\r\n      <g transform=\"translate(7.2 150.698437)scale(0.1 -0.1)\">\r\n       <use xlink:href=\"#DejaVuSans-52\"/>\r\n       <use x=\"63.623047\" xlink:href=\"#DejaVuSans-48\"/>\r\n      </g>\r\n     </g>\r\n    </g>\r\n    <g id=\"ytick_6\">\r\n     <g id=\"line2d_13\">\r\n      <g>\r\n       <use style=\"stroke:#000000;stroke-width:0.8;\" x=\"26.925\" xlink:href=\"#m81118ae399\" y=\"180.874219\"/>\r\n      </g>\r\n     </g>\r\n     <g id=\"text_13\">\r\n      <!-- 50 -->\r\n      <g transform=\"translate(7.2 184.673437)scale(0.1 -0.1)\">\r\n       <use xlink:href=\"#DejaVuSans-53\"/>\r\n       <use x=\"63.623047\" xlink:href=\"#DejaVuSans-48\"/>\r\n      </g>\r\n     </g>\r\n    </g>\r\n    <g id=\"ytick_7\">\r\n     <g id=\"line2d_14\">\r\n      <g>\r\n       <use style=\"stroke:#000000;stroke-width:0.8;\" x=\"26.925\" xlink:href=\"#m81118ae399\" y=\"214.849219\"/>\r\n      </g>\r\n     </g>\r\n     <g id=\"text_14\">\r\n      <!-- 60 -->\r\n      <g transform=\"translate(7.2 218.648437)scale(0.1 -0.1)\">\r\n       <use xlink:href=\"#DejaVuSans-54\"/>\r\n       <use x=\"63.623047\" xlink:href=\"#DejaVuSans-48\"/>\r\n      </g>\r\n     </g>\r\n    </g>\r\n   </g>\r\n   <g id=\"patch_3\">\r\n    <path d=\"M 26.925 226.740469 \r\nL 26.925 9.300469 \r\n\" style=\"fill:none;stroke:#000000;stroke-linecap:square;stroke-linejoin:miter;stroke-width:0.8;\"/>\r\n   </g>\r\n   <g id=\"patch_4\">\r\n    <path d=\"M 244.365 226.740469 \r\nL 244.365 9.300469 \r\n\" style=\"fill:none;stroke:#000000;stroke-linecap:square;stroke-linejoin:miter;stroke-width:0.8;\"/>\r\n   </g>\r\n   <g id=\"patch_5\">\r\n    <path d=\"M 26.925 226.740469 \r\nL 244.365 226.740469 \r\n\" style=\"fill:none;stroke:#000000;stroke-linecap:square;stroke-linejoin:miter;stroke-width:0.8;\"/>\r\n   </g>\r\n   <g id=\"patch_6\">\r\n    <path d=\"M 26.925 9.300469 \r\nL 244.365 9.300469 \r\n\" style=\"fill:none;stroke:#000000;stroke-linecap:square;stroke-linejoin:miter;stroke-width:0.8;\"/>\r\n   </g>\r\n  </g>\r\n </g>\r\n <defs>\r\n  <clipPath id=\"pcfae4db05f\">\r\n   <rect height=\"217.44\" width=\"217.44\" x=\"26.925\" y=\"9.300469\"/>\r\n  </clipPath>\r\n </defs>\r\n</svg>\r\n",
      "text/plain": [
       "<Figure size 432x288 with 1 Axes>"
      ]
     },
     "metadata": {
      "needs_background": "light"
     }
    }
   ],
   "metadata": {}
  },
  {
   "cell_type": "code",
   "execution_count": null,
   "source": [
    "my_image = \"my_image.jpg\"   \r\n",
    "\r\n",
    "fname = my_image\r\n",
    "image = np.array(Image.open(fname).resize((num_px, num_px)))\r\n",
    "plt.imshow(image)\r\n",
    "image = image / 255.\r\n",
    "image = image.reshape((1, num_px * num_px * 3)).T\r\n",
    "my_predicted_image = predict(logistic_regression_model[\"w\"], logistic_regression_model[\"b\"], image)\r\n",
    "\r\n",
    "print(\"y = \" + str(np.squeeze(my_predicted_image)) + \", your algorithm predicts a \\\"\" + test_classes[int(np.squeeze(my_predicted_image)),].decode(\"utf-8\") +  \"\\\" picture.\")"
   ],
   "outputs": [],
   "metadata": {}
  }
 ],
 "metadata": {
  "kernelspec": {
   "name": "python3",
   "display_name": "Python 3.8.8 64-bit ('base': conda)"
  },
  "language_info": {
   "codemirror_mode": {
    "name": "ipython",
    "version": 3
   },
   "file_extension": ".py",
   "mimetype": "text/x-python",
   "name": "python",
   "nbconvert_exporter": "python",
   "pygments_lexer": "ipython3",
   "version": "3.8.8"
  },
  "interpreter": {
   "hash": "501d5a780e364ab3245df8e9e83c2085a409f5e4d48d604ea04f5751dbf8dc91"
  }
 },
 "nbformat": 4,
 "nbformat_minor": 5
}